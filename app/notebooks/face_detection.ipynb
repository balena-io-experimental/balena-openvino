{
 "cells": [
  {
   "cell_type": "code",
   "execution_count": 1,
   "id": "8b154eb7-cf11-4335-9d34-969a0c49c1cf",
   "metadata": {},
   "outputs": [
    {
     "name": "stderr",
     "output_type": "stream",
     "text": [
      "2022-08-12 11:25:58.092827: W tensorflow/stream_executor/platform/default/dso_loader.cc:64] Could not load dynamic library 'libcudart.so.11.0'; dlerror: libcudart.so.11.0: cannot open shared object file: No such file or directory; LD_LIBRARY_PATH: /usr/local/lib/python3.8/dist-packages/cv2/../../lib64:\n",
      "2022-08-12 11:25:58.092850: I tensorflow/stream_executor/cuda/cudart_stub.cc:29] Ignore above cudart dlerror if you do not have a GPU set up on your machine.\n"
     ]
    }
   ],
   "source": [
    "import cv2, io, time, imutils, datetime, os, traceback, grpc\n",
    "from imutils.video import VideoStream\n",
    "import opencv_jupyter_ui as jcv2\n",
    "import numpy as np\n",
    "\n",
    "from tensorflow import make_tensor_proto, make_ndarray\n",
    "from tensorflow_serving.apis import predict_pb2\n",
    "from tensorflow_serving.apis import prediction_service_pb2_grpc"
   ]
  },
  {
   "cell_type": "code",
   "execution_count": 2,
   "id": "be0e8d12-0253-445a-b452-098c7a26ec37",
   "metadata": {},
   "outputs": [],
   "source": [
    "MODEL_NAME = \"face-detection\"\n",
    "INPUT_NAME = \"data\"\n",
    "RTSP_URL = \"rtsp://localhost:8554/server\"\n",
    "GRPC_URL = \"localhost:9000\"\n",
    "BATCH_SIZE = 1\n",
    "\n",
    "WIDTH = 300\n",
    "HEIGHT = 300"
   ]
  },
  {
   "cell_type": "code",
   "execution_count": 3,
   "id": "9d694323-94c7-487e-b425-a92d6442529f",
   "metadata": {},
   "outputs": [
    {
     "name": "stdout",
     "output_type": "stream",
     "text": [
      "* GRPC Channel succesfully opened\n",
      "* RTSP Stream succesfully opened\n"
     ]
    }
   ],
   "source": [
    "channel = grpc.insecure_channel(GRPC_URL)\n",
    "stub = prediction_service_pb2_grpc.PredictionServiceStub(channel)\n",
    "print(\"* GRPC Channel succesfully opened\")\n",
    "\n",
    "try:\n",
    "    rtsp_stream = VideoStream(RTSP_URL).start()\n",
    "    print(\"* RTSP Stream succesfully opened\")\n",
    "except Exception as e:\n",
    "    print(\"* RTSP Stream is unavailable, please close any other notebooks that might be accessing the stream first\")"
   ]
  },
  {
   "cell_type": "code",
   "execution_count": 4,
   "id": "5d0985b0-00e5-43ba-a9e3-f292f5b38160",
   "metadata": {},
   "outputs": [],
   "source": [
    "def load_image(img):\n",
    "    #img = np.frombuffer(img, dtype=np.uint8)\n",
    "    #img = cv2.imdecode(img, cv2.IMREAD_COLOR)  # BGR format\n",
    "    img = cv2.resize(img, (WIDTH, HEIGHT))\n",
    "    img = img.transpose(2,0,1).reshape(1,3,HEIGHT, WIDTH)\n",
    "    img = img.astype('float32')\n",
    "    return img "
   ]
  },
  {
   "cell_type": "code",
   "execution_count": 5,
   "id": "c33a869e-4b66-4401-b6eb-c3cf782b693c",
   "metadata": {},
   "outputs": [],
   "source": [
    "def draw_boxes(output, img):\n",
    "     for i in range(0, 200* BATCH_SIZE - 1):  # there is returned 200 detections for each image in the batch\n",
    "            detection = output[:,:,i,:]\n",
    "            # each detection has shape 1,1,7 where last dimension represent:\n",
    "            # image_id - ID of the image in the batch\n",
    "            # label - predicted class ID\n",
    "            # conf - confidence for the predicted class\n",
    "            # (x_min, y_min) - coordinates of the top left bounding box corner\n",
    "            #(x_max, y_max) - coordinates of the bottom right bounding box corner.\n",
    "            if detection[0,0,2] > 0.5:  # ignore detections for imageid != y and confidence <0.5\n",
    "                x_min = int(detection[0,0,3] * 640)\n",
    "                y_min = int(detection[0,0,4] * 480)\n",
    "                x_max = int(detection[0,0,5] * 640)\n",
    "                y_max = int(detection[0,0,6] * 480)\n",
    "\n",
    "                img = cv2.rectangle(img,(x_min,y_min),(x_max,y_max),(0, 255, 0) ,1)"
   ]
  },
  {
   "cell_type": "code",
   "execution_count": 6,
   "id": "9f6d8400-d334-4afe-bb73-20fca992eeac",
   "metadata": {},
   "outputs": [],
   "source": [
    "def run_inference(img):\n",
    "    request = predict_pb2.PredictRequest()\n",
    "    request.model_spec.name = MODEL_NAME\n",
    "    request.inputs[\"data\"].CopyFrom(make_tensor_proto(img, shape=(img.shape)))\n",
    "    result = stub.Predict(request, 10.0)\n",
    "    output = make_ndarray(result.outputs[\"detection_out\"])\n",
    "\n",
    "    return output"
   ]
  },
  {
   "cell_type": "code",
   "execution_count": null,
   "id": "21324028-6fa9-4624-a8c8-deaf8983997c",
   "metadata": {},
   "outputs": [
    {
     "data": {
      "application/vnd.jupyter.widget-view+json": {
       "model_id": "1c33cac75b884237ae84f4aba6ecbea2",
       "version_major": 2,
       "version_minor": 0
      },
      "text/plain": [
       "HBox(children=(Button(button_style='danger', description='Stop', style=ButtonStyle()), HBox(children=(Label(va…"
      ]
     },
     "metadata": {},
     "output_type": "display_data"
    },
    {
     "data": {
      "application/vnd.jupyter.widget-view+json": {
       "model_id": "d301e0d34ec34bf0955acfc2c825ea52",
       "version_major": 2,
       "version_minor": 0
      },
      "text/plain": [
       "HBox(children=(Button(button_style='danger', description='Stop', style=ButtonStyle()), HBox(children=(Label(va…"
      ]
     },
     "metadata": {},
     "output_type": "display_data"
    },
    {
     "data": {
      "application/vnd.jupyter.widget-view+json": {
       "model_id": "893ee5df0256404ba63d3e754415efc2",
       "version_major": 2,
       "version_minor": 0
      },
      "text/plain": [
       "VBox(children=(HTML(value='<center>Prediction Output</center>'), Canvas()), layout=Layout(border='1.5px solid'…"
      ]
     },
     "metadata": {},
     "output_type": "display_data"
    },
    {
     "name": "stdout",
     "output_type": "stream",
     "text": [
      "450 411 495 474\n",
      "452 372 496 437\n",
      "466 336 512 402\n",
      "466 326 514 391\n",
      "464 320 507 381\n",
      "460 309 504 371\n",
      "460 288 506 352\n",
      "467 269 512 325\n",
      "472 176 531 253\n",
      "462 220 513 285\n",
      "460 244 510 303\n",
      "442 301 491 356\n",
      "444 322 486 380\n",
      "402 380 452 443\n",
      "402 362 453 422\n",
      "477 312 533 367\n",
      "520 298 577 350\n",
      "529 296 583 352\n",
      "527 303 580 355\n",
      "522 317 568 376\n",
      "513 336 551 398\n",
      "502 349 540 407\n",
      "498 368 535 422\n",
      "486 378 519 425\n",
      "481 392 516 439\n",
      "430 395 468 447\n",
      "392 409 439 469\n",
      "524 380 551 425\n",
      "393 370 434 429\n",
      "409 354 453 418\n",
      "545 361 579 412\n",
      "552 362 598 416\n",
      "421 343 467 408\n",
      "429 336 474 402\n",
      "563 364 604 425\n",
      "432 333 479 398\n",
      "563 356 609 414\n",
      "428 334 477 396\n",
      "420 338 470 398\n",
      "565 335 612 390\n",
      "418 337 463 398\n",
      "565 328 609 385\n",
      "407 345 448 405\n",
      "565 317 612 381\n",
      "403 349 442 407\n",
      "550 295 594 354\n",
      "542 291 589 341\n",
      "506 275 563 336\n",
      "491 264 549 327\n",
      "486 253 544 316\n",
      "483 239 544 308\n",
      "484 220 544 294\n",
      "482 185 544 259\n",
      "479 168 542 248\n",
      "473 146 535 219\n",
      "461 125 525 200\n",
      "439 107 509 176\n",
      "415 89 482 165\n",
      "385 54 454 129\n",
      "361 29 440 108\n",
      "354 19 431 105\n",
      "350 15 427 93\n",
      "344 7 420 86\n",
      "338 4 411 82\n",
      "334 6 410 82\n",
      "332 5 405 83\n",
      "326 8 399 84\n",
      "321 5 394 89\n",
      "319 17 387 98\n",
      "319 20 387 101\n",
      "322 22 393 107\n",
      "332 27 399 107\n",
      "346 29 420 109\n",
      "364 33 437 110\n",
      "387 29 462 110\n",
      "402 24 472 109\n",
      "429 12 505 94\n",
      "436 10 507 88\n",
      "428 8 504 86\n",
      "432 20 504 95\n",
      "452 30 531 113\n",
      "469 46 545 129\n",
      "472 82 531 158\n",
      "479 113 531 184\n",
      "495 140 563 216\n",
      "492 148 547 215\n",
      "494 131 556 202\n",
      "491 117 559 193\n",
      "483 96 549 176\n",
      "473 68 539 144\n",
      "469 54 540 132\n",
      "467 37 538 115\n",
      "465 21 538 104\n",
      "458 11 535 94\n",
      "446 6 527 84\n",
      "437 5 511 84\n",
      "405 4 485 75\n",
      "381 3 464 73\n",
      "337 2 420 66\n",
      "321 3 396 61\n",
      "146 2 381 351\n",
      "131 9 375 316\n",
      "124 6 360 289\n",
      "119 5 361 285\n",
      "116 9 370 302\n",
      "139 8 356 294\n",
      "151 2 350 268\n",
      "153 2 343 245\n",
      "169 9 345 218\n",
      "192 15 346 205\n",
      "191 24 342 197\n",
      "214 38 359 193\n",
      "374 46 531 228\n",
      "395 41 552 200\n",
      "397 30 546 201\n",
      "356 30 510 183\n",
      "258 32 395 142\n",
      "221 22 358 161\n",
      "200 22 333 170\n",
      "189 21 322 177\n",
      "182 18 313 177\n",
      "177 20 310 180\n",
      "176 20 310 179\n",
      "180 16 319 181\n",
      "192 18 328 181\n",
      "198 13 334 180\n",
      "201 9 337 177\n",
      "325 36 428 175\n",
      "215 1 365 144\n",
      "210 4 356 141\n",
      "222 -3 356 124\n",
      "519 382 554 432\n",
      "528 379 570 430\n",
      "532 376 576 434\n",
      "534 369 577 425\n",
      "536 361 581 425\n",
      "533 349 581 420\n",
      "539 344 583 408\n",
      "542 337 588 393\n",
      "544 336 590 384\n",
      "569 328 628 380\n",
      "469 403 504 447\n",
      "446 402 479 452\n",
      "415 404 445 455\n",
      "490 339 526 391\n",
      "470 332 520 390\n",
      "457 326 505 377\n",
      "445 310 491 367\n",
      "440 299 485 355\n",
      "440 273 492 340\n",
      "444 251 499 321\n",
      "455 217 512 294\n",
      "463 183 520 253\n",
      "465 154 524 229\n",
      "457 129 521 206\n",
      "428 114 499 188\n"
     ]
    }
   ],
   "source": [
    "while True:\n",
    "    try: \n",
    "        frame = rtsp_stream.read()\n",
    "        try: \n",
    "            if frame is not None:\n",
    "                prepared = load_image(frame)\n",
    "                output = run_inference(prepared)\n",
    "                #frame = cv2.flip(frame, 1)\n",
    "                draw_boxes(output, frame)\n",
    "                jcv2.imshow(\"Prediction Output\", frame)\n",
    "            else: \n",
    "                continue \n",
    "                \n",
    "            time.sleep(1/10)\n",
    "        except Exception as e:\n",
    "            print(\"error while running inference\", e)\n",
    "            print(traceback.format_exc())\n",
    "          \n",
    "    except Exception as e:\n",
    "        print(\"error while grabbing RTSP stream\", e)"
   ]
  }
 ],
 "metadata": {
  "kernelspec": {
   "display_name": "Python 3.9.13 64-bit",
   "language": "python",
   "name": "python3"
  },
  "language_info": {
   "codemirror_mode": {
    "name": "ipython",
    "version": 3
   },
   "file_extension": ".py",
   "mimetype": "text/x-python",
   "name": "python",
   "nbconvert_exporter": "python",
   "pygments_lexer": "ipython3",
   "version": "3.9.13"
  },
  "vscode": {
   "interpreter": {
    "hash": "b0fa6594d8f4cbf19f97940f81e996739fb7646882a419484c72d19e05852a7e"
   }
  }
 },
 "nbformat": 4,
 "nbformat_minor": 5
}
