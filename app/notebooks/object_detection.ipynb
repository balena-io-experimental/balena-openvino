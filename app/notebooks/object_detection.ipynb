{
 "cells": [
  {
   "cell_type": "code",
   "execution_count": 1,
   "id": "68ab7bbe-64d2-459e-a7ae-0ddba6e1326f",
   "metadata": {},
   "outputs": [],
   "source": [
    "import cv2, io, time, imutils, datetime\n",
    "import traceback\n",
    "from imutils.video import VideoStream\n",
    "import numpy as np\n",
    "from classes import imagenet_classes\n",
    "from ovmsclient import make_grpc_client\n",
    "import opencv_jupyter_ui as jcv2\n",
    "\n",
    "from utils import crop_resize, draw_label, prep_image\n",
    "from IPython.display import display, Image\n",
    "import ipywidgets as widgets\n",
    "import threading"
   ]
  },
  {
   "cell_type": "code",
   "execution_count": 2,
   "id": "04cc07a3-42ca-403a-b1bb-d528f8bfc762",
   "metadata": {},
   "outputs": [],
   "source": [
    "GRPC_URL = \"localhost:9000\"\n",
    "RTSP_URL = \"rtsp://localhost:8554/server\"\n",
    "WIDTH = 640\n",
    "HEIGHT = 480\n",
    "FPS = 30"
   ]
  },
  {
   "cell_type": "code",
   "execution_count": 3,
   "id": "b883c305-0284-4ea3-b49c-17ada01e2bbe",
   "metadata": {},
   "outputs": [
    {
     "name": "stdout",
     "output_type": "stream",
     "text": [
      "* gRPC Socket succesfully opened\n"
     ]
    }
   ],
   "source": [
    "grpc_client = make_grpc_client(GRPC_URL)\n",
    "print(\"* gRPC Socket succesfully opened\")"
   ]
  },
  {
   "cell_type": "code",
   "execution_count": 4,
   "id": "3ae45d10-4ef1-4887-a41a-b1f78e307cf8",
   "metadata": {},
   "outputs": [
    {
     "name": "stdout",
     "output_type": "stream",
     "text": [
      "* RTSP Stream succesfully opened\n"
     ]
    }
   ],
   "source": [
    "rtsp_stream = VideoStream(RTSP_URL).start()\n",
    "print(\"* RTSP Stream succesfully opened\")"
   ]
  },
  {
   "cell_type": "code",
   "execution_count": 5,
   "id": "c3cb4244",
   "metadata": {},
   "outputs": [],
   "source": [
    "def resnet(client, img):\n",
    "    output = client.predict({\"0\": img}, \"resnet\")\n",
    "    result_index = np.argmax(output[0])\n",
    "    predicted_class = imagenet_classes[result_index]\n",
    "    return predicted_class"
   ]
  },
  {
   "cell_type": "code",
   "execution_count": null,
   "id": "6c7ec103",
   "metadata": {},
   "outputs": [],
   "source": [
    "while True:\n",
    "    try: \n",
    "        frame = rtsp_stream.read()\n",
    "        try: \n",
    "            if frame is not None:\n",
    "                aux_frame = prep_image(frame, WIDTH, HEIGHT)\n",
    "                result = resnet(grpc_client, aux_frame)\n",
    "                draw_label(frame, str(result), (20,20), (255,0,0))\n",
    "                title = \"Prediction OUTPUT\"\n",
    "                jcv2.imshow(title, frame)\n",
    "            else: \n",
    "                continue \n",
    "                \n",
    "            time.sleep(1/32)\n",
    "        except Exception as e:\n",
    "            print(\"error while running inference\", e)\n",
    "            print(traceback.format_exc())\n",
    "          \n",
    "    except Exception as e:\n",
    "        print(\"error while grabbing RTSP stream\", e)"
   ]
  }
 ],
 "metadata": {
  "kernelspec": {
   "display_name": "Python 3 (ipykernel)",
   "language": "python",
   "name": "python3"
  },
  "language_info": {
   "codemirror_mode": {
    "name": "ipython",
    "version": 3
   },
   "file_extension": ".py",
   "mimetype": "text/x-python",
   "name": "python",
   "nbconvert_exporter": "python",
   "pygments_lexer": "ipython3",
   "version": "3.9.13"
  },
  "vscode": {
   "interpreter": {
    "hash": "b0fa6594d8f4cbf19f97940f81e996739fb7646882a419484c72d19e05852a7e"
   }
  }
 },
 "nbformat": 4,
 "nbformat_minor": 5
}
