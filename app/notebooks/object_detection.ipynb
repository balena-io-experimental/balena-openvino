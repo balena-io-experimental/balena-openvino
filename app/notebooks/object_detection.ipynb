{
 "cells": [
  {
   "cell_type": "code",
   "execution_count": 1,
   "id": "68ab7bbe-64d2-459e-a7ae-0ddba6e1326f",
   "metadata": {},
   "outputs": [],
   "source": [
    "import cv2, io, time, imutils, datetime, os, traceback, grpc\n",
    "from imutils.video import VideoStream\n",
    "from classes import imagenet_classes\n",
    "import opencv_jupyter_ui as jcv2\n",
    "import numpy as np\n",
    "\n",
    "from ovmsclient import make_grpc_client\n",
    "from tensorflow import make_tensor_proto, make_ndarray\n",
    "from tensorflow_serving.apis import predict_pb2\n",
    "from tensorflow_serving.apis import prediction_service_pb2_grpc"
   ]
  },
  {
   "cell_type": "code",
   "execution_count": 2,
   "id": "04cc07a3-42ca-403a-b1bb-d528f8bfc762",
   "metadata": {},
   "outputs": [],
   "source": [
    "GRPC_URL = \"localhost:9000\"\n",
    "RTSP_URL = \"rtsp://localhost:8554/server\"\n",
    "WIDTH = 224\n",
    "HEIGHT = 224\n",
    "FPS = 10"
   ]
  },
  {
   "cell_type": "code",
   "execution_count": 3,
   "id": "b883c305-0284-4ea3-b49c-17ada01e2bbe",
   "metadata": {},
   "outputs": [
    {
     "name": "stdout",
     "output_type": "stream",
     "text": [
      "* gRPC Socket succesfully opened\n"
     ]
    }
   ],
   "source": [
    "grpc_client = make_grpc_client(GRPC_URL)\n",
    "print(\"* gRPC Socket succesfully opened\")"
   ]
  },
  {
   "cell_type": "code",
   "execution_count": 4,
   "id": "3ae45d10-4ef1-4887-a41a-b1f78e307cf8",
   "metadata": {},
   "outputs": [
    {
     "name": "stdout",
     "output_type": "stream",
     "text": [
      "* RTSP Stream succesfully opened\n"
     ]
    }
   ],
   "source": [
    "\n",
    "try:\n",
    "    rtsp_stream = VideoStream(RTSP_URL).start()\n",
    "    print(\"* RTSP Stream succesfully opened\")\n",
    "except Exception as e:\n",
    "    print(\"* RTSP Stream is unavailable, please close any other notebooks that might be accessing the stream first\")"
   ]
  },
  {
   "cell_type": "code",
   "execution_count": 5,
   "id": "c3cb4244",
   "metadata": {},
   "outputs": [],
   "source": [
    "def resnet(client, img):\n",
    "    output = grpc_client.predict({\"0\": img}, \"resnet\")\n",
    "    result_index = np.argmax(output[0])\n",
    "    predicted_class = imagenet_classes[result_index]\n",
    "    return predicted_class"
   ]
  },
  {
   "cell_type": "code",
   "execution_count": null,
   "id": "d9981618",
   "metadata": {},
   "outputs": [],
   "source": [
    "def prep_image(img, size = 224, rgb_image=True):\n",
    "    img = cv2.resize(img, (WIDTH, HEIGHT))\n",
    "    img = img.astype('float32')\n",
    "\n",
    "    img = img[:, :, [2, 1, 0]]\n",
    "    img = img.transpose(2,0,1).reshape(1,3, HEIGHT, WIDTH)\n",
    "    return img\n"
   ]
  },
  {
   "cell_type": "code",
   "execution_count": null,
   "id": "ef027af7",
   "metadata": {},
   "outputs": [],
   "source": [
    "def draw_label(img, text, pos, bg_color):\n",
    "    font_face = cv2.FONT_HERSHEY_SIMPLEX\n",
    "    scale = 0.4\n",
    "    color = (0, 0, 0)\n",
    "    thickness = cv2.FILLED\n",
    "    margin = 2\n",
    "    txt_size = cv2.getTextSize(text, font_face, scale, thickness)\n",
    "\n",
    "    ##img = np.frombuffer(content, dtype=np.uint8)\n",
    "   ## img = cv2.imdecode(img, cv2.IMREAD_COLOR)  # BGR format\n",
    "    # retrived array has BGR format and 0-255 normalization\n",
    "    # format of data is HWC\n",
    "    # add image preprocessing if needed by the model\n",
    "    end_x = pos[0] + txt_size[0][0] + margin\n",
    "    end_y = pos[1] - txt_size[0][1] - margin\n",
    "    \n",
    "    cv2.rectangle(img, pos, (end_x, end_y), bg_color, thickness)\n",
    "    cv2.putText(img, text, pos, font_face, scale, color, 1, cv2.LINE_AA)"
   ]
  },
  {
   "cell_type": "code",
   "execution_count": null,
   "id": "6c7ec103",
   "metadata": {},
   "outputs": [],
   "source": [
    "while True:\n",
    "    try: \n",
    "        frame = rtsp_stream.read()\n",
    "        try: \n",
    "            if frame is not None:\n",
    "                aux_frame = prep_image(frame, WIDTH, HEIGHT)\n",
    "                result = resnet(grpc_client, aux_frame)\n",
    "                draw_label(frame, str(result), (20,20), (255,0,0))\n",
    "                title = \"Prediction OUTPUT\"\n",
    "                jcv2.imshow(title, frame)\n",
    "            else: \n",
    "                continue \n",
    "                \n",
    "            time.sleep(1/FPS)\n",
    "        except Exception as e:\n",
    "            print(\"error while running inference\", e)\n",
    "            print(traceback.format_exc())\n",
    "          \n",
    "    except Exception as e:\n",
    "        print(\"error while grabbing RTSP stream\", e)"
   ]
  }
 ],
 "metadata": {
  "kernelspec": {
   "display_name": "Python 3 (ipykernel)",
   "language": "python",
   "name": "python3"
  },
  "language_info": {
   "codemirror_mode": {
    "name": "ipython",
    "version": 3
   },
   "file_extension": ".py",
   "mimetype": "text/x-python",
   "name": "python",
   "nbconvert_exporter": "python",
   "pygments_lexer": "ipython3",
   "version": "3.9.13"
  },
  "vscode": {
   "interpreter": {
    "hash": "b0fa6594d8f4cbf19f97940f81e996739fb7646882a419484c72d19e05852a7e"
   }
  }
 },
 "nbformat": 4,
 "nbformat_minor": 5
}
