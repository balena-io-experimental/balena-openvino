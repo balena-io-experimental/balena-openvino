{
 "cells": [
  {
   "cell_type": "code",
   "execution_count": 1,
   "id": "f8ecace8-27e1-484a-ad24-76175a86e71f",
   "metadata": {},
   "outputs": [
    {
     "name": "stderr",
     "output_type": "stream",
     "text": [
      "2022-08-01 11:32:23.998341: W tensorflow/stream_executor/platform/default/dso_loader.cc:64] Could not load dynamic library 'libcudart.so.11.0'; dlerror: libcudart.so.11.0: cannot open shared object file: No such file or directory; LD_LIBRARY_PATH: /usr/local/lib/python3.8/dist-packages/cv2/../../lib64:\n",
      "2022-08-01 11:32:23.998364: I tensorflow/stream_executor/cuda/cudart_stub.cc:29] Ignore above cudart dlerror if you do not have a GPU set up on your machine.\n"
     ]
    }
   ],
   "source": [
    "import cv2, io, time, imutils, datetime\n",
    "import traceback\n",
    "from imutils.video import VideoStream\n",
    "import numpy as np\n",
    "from classes import imagenet_classes\n",
    "from ovmsclient import make_grpc_client\n",
    "import opencv_jupyter_ui as jcv2\n",
    "\n",
    "from utils import crop_resize, draw_label, prep_image\n",
    "from IPython.display import display, Image\n",
    "import ipywidgets as widgets\n",
    "\n",
    "from tensorflow_serving.apis import predict_pb2\n",
    "from tensorflow_serving.apis import prediction_service_pb2_grpc"
   ]
  },
  {
   "cell_type": "code",
   "execution_count": 7,
   "id": "8fe130a3-ba0d-425c-bdbd-06a437d6f3e8",
   "metadata": {},
   "outputs": [],
   "source": [
    "MODEL_NAME = \"yolov5\"\n",
    "INPUT_NAME = \"Placeholder\"\n",
    "RTSP_URL = \"rtsp://localhost:8554/server\""
   ]
  },
  {
   "cell_type": "code",
   "execution_count": 3,
   "id": "46f0f721-fef6-4f0b-944d-4c0fc20078ef",
   "metadata": {},
   "outputs": [],
   "source": [
    "def get_yolo_outputs(result):\n",
    "    output = tf_contrib_util.make_ndarray(result.outputs['detector/yolo-v3/Conv_22/BiasAdd/YoloRegion'])\n",
    "    output_numpy1 = np.array(output)\n",
    "    output = tf_contrib_util.make_ndarray(result.outputs['detector/yolo-v3/Conv_14/BiasAdd/YoloRegion'])\n",
    "    output_numpy2 = np.array(output)\n",
    "    output = tf_contrib_util.make_ndarray(result.outputs['detector/yolo-v3/Conv_6/BiasAdd/YoloRegion'])\n",
    "    output_numpy3 = np.array(output)\n",
    "    \n",
    "    return output_numpy1, output_numpy2, output_numpy3"
   ]
  },
  {
   "cell_type": "code",
   "execution_count": 4,
   "id": "9d43419d-9c0d-4399-89a8-69a88b3b505d",
   "metadata": {},
   "outputs": [],
   "source": [
    "def prep_jpeg(content):\n",
    "    img = np.frombuffer(content, dtype=np.uint8)\n",
    "    img = cv2.imdecode(img, cv2.IMREAD_COLOR)  # BGR format\n",
    "    img = crop_resize(img, size, size)\n",
    "    img = img.astype('float32')\n",
    "    \n",
    "    if rgb_image:\n",
    "        img = img[:, :, [2, 1, 0]]\n",
    "   \n",
    "    img = img.transpose(2,0,1).reshape(1,3,size,size)\n",
    "    print(path, img.shape, \"; data range:\",np.amin(img),\":\",np.amax(img))\n",
    "    return img"
   ]
  },
  {
   "cell_type": "code",
   "execution_count": 5,
   "id": "208ac7f7-5dd5-43ae-8c1b-ecdd39f3a2c9",
   "metadata": {},
   "outputs": [],
   "source": [
    "def run_inference(image):\n",
    "    img = prep_jpeg(image)\n",
    "    request = predict_pb2.PredictRequest()\n",
    "    request.model_spec.name = MODEL_NAME\n",
    "    request.inputs[INPUT_NAME].CopyFrom(make_tensor_proto(img, shape=(img.shape)))\n",
    "    start_time = datetime.datetime.now()\n",
    "    result = stub.Predict(request, 10.0) # result includes a dictionary with all model outputs\n",
    "    end_time = datetime.datetime.now()\n",
    "    duration = end_time - start_time\n",
    "    \n",
    "    return result, duration"
   ]
  },
  {
   "cell_type": "code",
   "execution_count": 6,
   "id": "f159d2c1-4d72-417f-a145-3bc71bf11737",
   "metadata": {},
   "outputs": [
    {
     "ename": "NameError",
     "evalue": "name 'RTSP_URL' is not defined",
     "output_type": "error",
     "traceback": [
      "\u001b[0;31m---------------------------------------------------------------------------\u001b[0m",
      "\u001b[0;31mNameError\u001b[0m                                 Traceback (most recent call last)",
      "Input \u001b[0;32mIn [6]\u001b[0m, in \u001b[0;36m<cell line: 1>\u001b[0;34m()\u001b[0m\n\u001b[0;32m----> 1\u001b[0m rtsp_stream \u001b[38;5;241m=\u001b[39m VideoStream(\u001b[43mRTSP_URL\u001b[49m)\u001b[38;5;241m.\u001b[39mstart()\n\u001b[1;32m      2\u001b[0m \u001b[38;5;28mprint\u001b[39m(\u001b[38;5;124m\"\u001b[39m\u001b[38;5;124m* RTSP Stream succesfully opened\u001b[39m\u001b[38;5;124m\"\u001b[39m)\n",
      "\u001b[0;31mNameError\u001b[0m: name 'RTSP_URL' is not defined"
     ]
    }
   ],
   "source": [
    "rtsp_stream = VideoStream(RTSP_URL).start()\n",
    "print(\"* RTSP Stream succesfully opened\")"
   ]
  },
  {
   "cell_type": "code",
   "execution_count": null,
   "id": "7c38545b-e1c4-474f-9ae4-8d83da85f85e",
   "metadata": {},
   "outputs": [],
   "source": [
    "while True:\n",
    "    try: \n",
    "        frame = rtsp_stream.read()\n",
    "        try: \n",
    "            if frame is not None:\n",
    "                result, _ = run_inference(frame)\n",
    "                output1, output2, output3 = get_yolo_outputs(result)\n",
    "                jcv2.imshow(\"Prediction Output\", frame)\n",
    "            else: \n",
    "                continue \n",
    "                \n",
    "            time.sleep(1/32)\n",
    "        except Exception as e:\n",
    "            print(\"error while running inference\", e)\n",
    "            print(traceback.format_exc())\n",
    "          \n",
    "    except Exception as e:\n",
    "        print(\"error while grabbing RTSP stream\", e)"
   ]
  }
 ],
 "metadata": {
  "kernelspec": {
   "display_name": "Python 3.9.13 64-bit",
   "language": "python",
   "name": "python3"
  },
  "language_info": {
   "codemirror_mode": {
    "name": "ipython",
    "version": 3
   },
   "file_extension": ".py",
   "mimetype": "text/x-python",
   "name": "python",
   "nbconvert_exporter": "python",
   "pygments_lexer": "ipython3",
   "version": "3.9.13"
  },
  "vscode": {
   "interpreter": {
    "hash": "b0fa6594d8f4cbf19f97940f81e996739fb7646882a419484c72d19e05852a7e"
   }
  }
 },
 "nbformat": 4,
 "nbformat_minor": 5
}
